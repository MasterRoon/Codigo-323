{
 "cells": [
  {
   "cell_type": "code",
   "execution_count": null,
   "id": "3bab49c7",
   "metadata": {
    "scrolled": true
   },
   "outputs": [],
   "source": [
    "import os\n",
    "import speech_recognition as sr\n",
    "from sklearn.metrics import precision_score\n",
    "\n",
    "#\n",
    "def transcrever_audio(arquivo_audio):\n",
    "    recognizer = sr.Recognizer() #Cria uma instância do \"Recognizer\"\n",
    "\n",
    "    with sr.AudioFile(arquivo_audio) as source:#Abre o arquivo de áudio usando \"AudioFile\"\n",
    "        audio_data = recognizer.record(source) #Registra o áudio usando \"record\"\n",
    "\n",
    "        try:\n",
    "            texto_transcrito = recognizer.recognize_google(audio_data, language='pt-BR') #Utiliza recognize-google para realizar o reconhecimento de fala, especificando o idioma como no caso em'pt-BR'.\n",
    "            return texto_transcrito\n",
    "        except sr.UnknownValueError:\n",
    "            return None #Retorna o texto transcrito ou \"None\" em caso de falha.\n",
    "\n",
    "def imprimir_transcricoes_e_precisao(caminho_pasta_audios, transcricoes_reais):\n",
    "    transcricoes_modelo = []\n",
    "\n",
    "    for nome_arquivo in os.listdir(caminho_pasta_audios): #Itera sobre os arquivos de áudio na pasta especificada.\n",
    "        if nome_arquivo.endswith(\".wav\"):\n",
    "            caminho_arquivo_audio = os.path.join(caminho_pasta_audios, nome_arquivo)\n",
    "            transcricao = transcrever_audio(caminho_arquivo_audio) #Para cada arquivo, chama o método transcrever-audio.\n",
    "\n",
    "            if transcricao is not None:\n",
    "                transcricoes_modelo.append(transcricao) #Adiciona as transcrições geradas à lista transcricoes-modelo.\n",
    "            else:\n",
    "                print(f\"Não foi possível transcrever o áudio: {caminho_arquivo_audio}\")\n",
    "                transcricoes_modelo.append(\"\")  # Se não entender, adiciona uma string vazia\n",
    "\n",
    "    # Imprimir as transcrições em ordem\n",
    "    for i, transcricao in enumerate(transcricoes_modelo):\n",
    "        print(f'Áudio {i + 1}: {transcricao}')\n",
    "\n",
    "    # Ajustar o tamanho de transcricoes_reais para ter o mesmo tamanho que transcricoes_modelo\n",
    "    transcricoes_reais = transcricoes_reais[:len(transcricoes_modelo)]\n",
    "\n",
    "    # Calcular a precisão\n",
    "    precision = precision_score(transcricoes_reais, transcricoes_modelo, average='weighted', zero_division=1)\n",
    "    print(f'Precisão: {precision}')\n",
    "\n",
    "# caminho real do seu conjunto de dados\n",
    "caminho_pasta_audios = 'C:\\\\Users\\\\Usuario\\\\Desktop\\\\Conjunto teste'\n",
    "#Aqui ficam as transquições reais dos arquivos escolhidos \n",
    "transcricoes_reais = ['transcricao1', 'transcricao2', 'transcricao3']  \n",
    "\n",
    "imprimir_transcricoes_e_precisao(caminho_pasta_audios, transcricoes_reais)\n",
    "\n"
   ]
  },
  {
   "cell_type": "code",
   "execution_count": null,
   "id": "c87c9449",
   "metadata": {},
   "outputs": [],
   "source": []
  },
  {
   "cell_type": "code",
   "execution_count": null,
   "id": "2e0cde5e",
   "metadata": {},
   "outputs": [],
   "source": []
  }
 ],
 "metadata": {
  "kernelspec": {
   "display_name": "Python 3 (ipykernel)",
   "language": "python",
   "name": "python3"
  },
  "language_info": {
   "codemirror_mode": {
    "name": "ipython",
    "version": 3
   },
   "file_extension": ".py",
   "mimetype": "text/x-python",
   "name": "python",
   "nbconvert_exporter": "python",
   "pygments_lexer": "ipython3",
   "version": "3.11.5"
  }
 },
 "nbformat": 4,
 "nbformat_minor": 5
}
